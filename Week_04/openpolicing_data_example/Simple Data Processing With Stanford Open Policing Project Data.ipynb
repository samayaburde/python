{
 "cells": [
  {
   "cell_type": "markdown",
   "metadata": {},
   "source": [
    "# Simple Data Processing with *Stanford Open Policing Project* Data\n",
    "\n",
    "This notebook shows simple data processing and plotting, using [The Stanford Open Policing Project](https://openpolicing.stanford.edu/)'s Oakland dataset. A description of the data is [here](https://openpolicing.stanford.edu/data).\n",
    "\n",
    "Technically, this notebook covers:\n",
    "\n",
    "- What is a CSV file?\n",
    "- How do we read a CSV file in Python using `csv.reader()`?\n",
    "- How might we parse data using tools we already know, like `for` loops?\n",
    "- How might we display data visually using `matplotlib.pyplot`?"
   ]
  },
  {
   "cell_type": "markdown",
   "metadata": {},
   "source": [
    "## What is a CSV?\n",
    "\n",
    "'CSV' is a file format. It stands for *comma-separated values*. As the full name suggests, a csv file contains a set of values; each value is separated by a comma.\n",
    "\n",
    "For eample, this CSV excerpt has three columns (`date,time,location`) and three rows of data.\n",
    "\n",
    "```\n",
    "date,time,location\n",
    "2013-04-01,20:52:00,700 Blk Of Center St\n",
    "2013-04-01,15:55:00,73R D AV&INTERNATIONAL BLVD\n",
    "NA,01:33:00,E. 28th St. & Park BLVD\n",
    "```\n",
    "\n",
    "CSV is a very common data format, and Python is a great tool for processing CSV data at a large scale or with a lot of complexity. In fact, Python comes with a library called `csv` for exactly these purposes."
   ]
  },
  {
   "cell_type": "code",
   "execution_count": 72,
   "metadata": {},
   "outputs": [],
   "source": [
    "# Import a library called csv.\n",
    "# (https://docs.python.org/3/library/csv.html)\n",
    "# We will use a module called csv.reader() which will help\n",
    "# us parse csv data.\n",
    "import csv"
   ]
  },
  {
   "cell_type": "markdown",
   "metadata": {},
   "source": [
    "## How do we read a CSV file in Python using` csv.reader()`?\n",
    "\n",
    "In the following cell, we preview the data in a CSV called 'ca_oakland_2020_04_01.csv_SHORT'. Not that this CSV file is a separate file in the same directory as this notebook. It is a shortened version of the original dataset."
   ]
  },
  {
   "cell_type": "code",
   "execution_count": 24,
   "metadata": {},
   "outputs": [
    {
     "name": "stdout",
     "output_type": "stream",
     "text": [
      "['raw_row_number', 'date', 'time', 'location', 'lat', 'lng', 'beat', 'subject_age', 'subject_race', 'subject_sex', 'officer_assignment', 'type', 'arrest_made', 'citation_issued', 'warning_issued', 'outcome', 'contraband_found', 'contraband_drugs', 'contraband_weapons', 'search_conducted', 'search_basis', 'reason_for_stop', 'use_of_force_description', 'raw_subject_sdrace', 'raw_subject_resultofencounter', 'raw_subject_searchconducted', 'raw_subject_typeofsearch', 'raw_subject_resultofsearch']\n"
     ]
    }
   ],
   "source": [
    "# Open the csv file, set the mode to 'r' (read mode),\n",
    "# and call the file 'infile' for short.\n",
    "with open('ca_oakland_2020_04_01_SHORT.csv', mode='r') as infile:\n",
    "    # Create a reader object based on the file's contents\n",
    "    reader = csv.reader(infile)\n",
    "    # For every row in our reader object\n",
    "    for row in reader:\n",
    "        # Print the row\n",
    "        print(row)\n",
    "        # Toggle the following line to view either just\n",
    "        # the first row (the column headings), or the\n",
    "        # whole dataset.\n",
    "        break"
   ]
  },
  {
   "cell_type": "markdown",
   "metadata": {},
   "source": [
    "## How might we parse data using tools we already know?\n",
    "\n",
    "In the following cell, we extract all latitude and longitude infromation from the CSV file, and we store them in a way that is compatible with the next step (plot them)."
   ]
  },
  {
   "cell_type": "code",
   "execution_count": 69,
   "metadata": {},
   "outputs": [
    {
     "name": "stdout",
     "output_type": "stream",
     "text": [
      "[37.803084000000005, 37.7675677, 37.820598499999996, 37.8212456, 37.802937299999996, 37.8121989, 37.8157596, 37.73451, 37.759561, 37.8229491]\n",
      "[-122.2372469, -122.19682040000002, -122.27073429999999, -122.2764876, -122.2717384, -122.27638789999999, -122.2850803, -122.19717, -122.186857, -122.25576629999999]\n"
     ]
    }
   ],
   "source": [
    "# Create an empty list to store all lat and long separately.\n",
    "latitudes = []\n",
    "longitudes = []\n",
    "\n",
    "# Open the csv file, set the mode to 'r' (read mode),\n",
    "# and call the file 'infile' for short.\n",
    "with open('ca_oakland_2020_04_01_SHORT.csv', mode='r') as infile:\n",
    "    # Create a reader object based on the file's contents\n",
    "    reader = csv.reader(infile)\n",
    "    # Skip the header line\n",
    "    next(reader)\n",
    "    # For every row in our reader object\n",
    "    for row in reader:\n",
    "        # If both a lat and a long are available\n",
    "        if row[4] != 'NA' and row[4] != 'NA':\n",
    "            # Add (append) each lat and long to the appropriate list.\n",
    "            latitudes.append(float(row[4]))\n",
    "            longitudes.append(float(row[5]))\n",
    "\n",
    "# Preview the first ten items of each list, as a sanity check.\n",
    "print(latitudes[:10])\n",
    "print(longitudes[:10])"
   ]
  },
  {
   "cell_type": "markdown",
   "metadata": {},
   "source": [
    "## How might we display data visually using `matplotlib.pyplot`?\n",
    "\n",
    "In the following cell, we use our latitude and longitude information, and plot stop incidents visually using a library called [MatPlotLib](https://matplotlib.org/)."
   ]
  },
  {
   "cell_type": "code",
   "execution_count": 74,
   "metadata": {},
   "outputs": [
    {
     "data": {
      "image/png": "[encoded data removed]",
      "text/plain": [
       "<Figure size 432x288 with 1 Axes>"
      ]
     },
     "metadata": {
      "needs_background": "light"
     },
     "output_type": "display_data"
    }
   ],
   "source": [
    "# Import a module called pyplot from the matplotlib library.\n",
    "# Call the module plt for short.\n",
    "# (https://matplotlib.org/)\n",
    "from matplotlib import pyplot as plt\n",
    "\n",
    "# Create a scatter plot using longitude items as x axis values\n",
    "# and latitude items as y axis values.\n",
    "plt.scatter(longitudes,\n",
    "            latitudes,\n",
    "            color='k',\n",
    "            s=25,\n",
    "            marker='o')\n",
    "\n",
    "# Add some plot labels\n",
    "plt.xlabel('longitude')\n",
    "plt.ylabel('latitude')\n",
    "plt.title('Oakland police stop locations')\n",
    "plt.show()"
   ]
  },
  {
   "cell_type": "markdown",
   "metadata": {},
   "source": [
    "## Summary & resources for more\n",
    "\n",
    "This is not particularly insightful in itself, but it shows the mechanics of:\n",
    " \n",
    "- reading a common data format (csv) using `csv.reader()`\n",
    "- parsing rows of information using tools we've already learned like `for` loops\n",
    "- displaying data visually using `matplotlib.pyplot`\n",
    "\n",
    "There is a lot more data in the original CSV (as well as other cities' data to explore), and now you have some tools to begin exploring and visualizing it computationally, and gaining new insights from it.\n",
    "\n",
    "**For continued work with data processing and visualization, we recommend checking out this great resource of [Data-Driven Efforts to Reduce Racial Inequality](https://medium.com/data-stewards-network/ongoing-data-driven-efforts-to-address-racial-inequality-49e40ee05fee), compiled by [The Governance Lab @ NYU](http://www.thegovlab.org/). It is also worth checking out the [NumPy library](https://numpy.org/), often used together with [MatPlotLib](https://matplotlib.org/).**"
   ]
  },
  {
   "cell_type": "code",
   "execution_count": null,
   "metadata": {},
   "outputs": [],
   "source": []
  }
 ],
 "metadata": {
  "kernelspec": {
   "display_name": "Python 3",
   "language": "python",
   "name": "python3"
  },
  "language_info": {
   "codemirror_mode": {
    "name": "ipython",
    "version": 3
   },
   "file_extension": ".py",
   "mimetype": "text/x-python",
   "name": "python",
   "nbconvert_exporter": "python",
   "pygments_lexer": "ipython3",
   "version": "3.7.4"
  }
 },
 "nbformat": 4,
 "nbformat_minor": 2
}
