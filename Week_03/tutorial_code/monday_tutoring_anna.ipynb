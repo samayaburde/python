{
 "cells": [
  {
   "cell_type": "markdown",
   "metadata": {},
   "source": [
    "# Monday tutoring notebook\n",
    "\n",
    "*Possible topics to review:*\n",
    "\n",
    "## Strings\n",
    "| Topic | Example |\n",
    "|:-|:-|\n",
    "|What are the different types of quotation marks?| `'hello'` `\"hello\"` `'''hello'''` |\n",
    "|What is an escape chracter?|`'It\\'s a beautiful day!'`|\n",
    "|What does '+' mean inside of a string?|`'hello, ' + name + '!'`|\n",
    "|What is string formatting?|`'hello, %s, %s, %s' % names`|\n",
    "|What are some string methods?|`my_string.lower()`|\n",
    "|What is string splicing? | `my_string[::-1]` |\n",
    "\n",
    "## Lists & Tuples\n",
    "| Topic | Example |\n",
    "|:-|:-|\n",
    "|What is a list?| `['apples', 'bananas', 'oranges']` |\n",
    "|What is a tuple?|`('apples', 'bananas', 'oranges')`|\n",
    "|What is list/tuple indexing? | `my_list[-1]` |\n",
    "|What is list/tuple splicing? | `my_list[::-1]` |\n",
    "|What are some list methods? | `my_list.reverse()`, `my_list.append('mango')`|\n",
    "\n",
    "## Functions\n",
    "| Topic | Example |\n",
    "|:-|:-|\n",
    "|What is a function and how to we make/use one?| `print()`, `isPalindrome(txt)`|\n",
    "|What is a function parameter? | `txt` in `isPalindrome(txt)` |\n",
    "|What does it mean when a function *returns* something? | `return answer` |\n",
    "\n",
    "<hr>"
   ]
  },
  {
   "cell_type": "markdown",
   "metadata": {},
   "source": [
    "# Strings"
   ]
  },
  {
   "cell_type": "code",
   "execution_count": 1,
   "metadata": {},
   "outputs": [],
   "source": [
    "# What are the different types of quotation marks?\n",
    "# And why might you use one or another? \n",
    "# (e.g. 'hello', \"hello\", '''hello'''...)"
   ]
  },
  {
   "cell_type": "code",
   "execution_count": 2,
   "metadata": {},
   "outputs": [],
   "source": [
    "# What is an escape character?\n",
    "# (e.g. 'It\\'s a beautiful day!')"
   ]
  },
  {
   "cell_type": "code",
   "execution_count": 3,
   "metadata": {},
   "outputs": [],
   "source": [
    "# What does '+' mean when used inside of a string?\n",
    "# ('hello, ' + name + '!')"
   ]
  },
  {
   "cell_type": "code",
   "execution_count": 5,
   "metadata": {},
   "outputs": [],
   "source": [
    "# What is string formatting?\n",
    "# Why might you use it?\n",
    "# (e.g. 'hello, %s, %s, %s' % names)"
   ]
  },
  {
   "cell_type": "code",
   "execution_count": 8,
   "metadata": {},
   "outputs": [],
   "source": [
    "# What are some string methods?\n",
    "# (e.g. my_string.lower())"
   ]
  },
  {
   "cell_type": "markdown",
   "metadata": {},
   "source": [
    "# Lists & Tuples"
   ]
  },
  {
   "cell_type": "code",
   "execution_count": 11,
   "metadata": {},
   "outputs": [],
   "source": [
    "# What is a list?\n",
    "# (e.g. ['apples', 'bananas', 'oranges'])"
   ]
  },
  {
   "cell_type": "code",
   "execution_count": 12,
   "metadata": {},
   "outputs": [],
   "source": [
    "# What is a tuple?\n",
    "# (e.g. ('apples', 'bananas', 'oranges'))"
   ]
  },
  {
   "cell_type": "code",
   "execution_count": 13,
   "metadata": {},
   "outputs": [],
   "source": [
    "# What is list/tuple indexing?\n",
    "# (e.g. my_list[0])"
   ]
  },
  {
   "cell_type": "code",
   "execution_count": 14,
   "metadata": {},
   "outputs": [],
   "source": [
    "# What is list/tuple splicing?\n",
    "# (e.g. my_list[::-1])"
   ]
  },
  {
   "cell_type": "code",
   "execution_count": 15,
   "metadata": {},
   "outputs": [],
   "source": [
    "# What are some list methods?\n",
    "# (e.g. my_list.reverse())"
   ]
  },
  {
   "cell_type": "markdown",
   "metadata": {},
   "source": [
    "# Functions"
   ]
  },
  {
   "cell_type": "code",
   "execution_count": 10,
   "metadata": {},
   "outputs": [],
   "source": [
    "# What is a function?\n",
    "# How do you declare one?\n",
    "# How do you call one?"
   ]
  },
  {
   "cell_type": "code",
   "execution_count": 7,
   "metadata": {},
   "outputs": [],
   "source": [
    "# What is a function parameter?\n",
    "# When might you use one?"
   ]
  },
  {
   "cell_type": "code",
   "execution_count": 16,
   "metadata": {},
   "outputs": [],
   "source": [
    "# What does it mean when a function *returns* something?\n",
    "# When might you want to do that?"
   ]
  }
 ],
 "metadata": {
  "kernelspec": {
   "display_name": "Python 3",
   "language": "python",
   "name": "python3"
  },
  "language_info": {
   "codemirror_mode": {
    "name": "ipython",
    "version": 3
   },
   "file_extension": ".py",
   "mimetype": "text/x-python",
   "name": "python",
   "nbconvert_exporter": "python",
   "pygments_lexer": "ipython3",
   "version": "3.7.6"
  }
 },
 "nbformat": 4,
 "nbformat_minor": 2
}
