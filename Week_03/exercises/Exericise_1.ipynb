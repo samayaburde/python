{
 "cells": [
  {
   "cell_type": "code",
   "execution_count": 1,
   "metadata": {},
   "outputs": [
    {
     "ename": "AttributeError",
     "evalue": "'str' object has no attribute 'sort'",
     "output_type": "error",
     "traceback": [
      "\u001b[1;31m---------------------------------------------------------------------------\u001b[0m",
      "\u001b[1;31mAttributeError\u001b[0m                            Traceback (most recent call last)",
      "\u001b[1;32m<ipython-input-1-c344d332378f>\u001b[0m in \u001b[0;36m<module>\u001b[1;34m\u001b[0m\n\u001b[0;32m     16\u001b[0m \"\"\" \n\u001b[0;32m     17\u001b[0m \u001b[1;33m\u001b[0m\u001b[0m\n\u001b[1;32m---> 18\u001b[1;33m \u001b[0mwords\u001b[0m \u001b[1;33m=\u001b[0m \u001b[0mtext\u001b[0m\u001b[1;33m.\u001b[0m\u001b[0msort\u001b[0m\u001b[1;33m(\u001b[0m\u001b[1;33m)\u001b[0m\u001b[1;33m\u001b[0m\u001b[1;33m\u001b[0m\u001b[0m\n\u001b[0m",
      "\u001b[1;31mAttributeError\u001b[0m: 'str' object has no attribute 'sort'"
     ]
    }
   ],
   "source": [
    "# Store string data in a variable called 'text'.\n",
    "# (This string is from 'Doorway to Distruction,'\n",
    "# a randomly chosen book from the Gutenberg Library of ebooks).\n",
    "\n",
    "text = \"\"\"\n",
    "Old Kelvin Martin strained futilely against the rope that held\n",
    "immovable his thin wrists. A crimsoned bruise raced across his forehead\n",
    "where Vance had slugged him with a heavy hand.\n",
    "\n",
    "\"Don't be a complete fool, Vance!\" he said harshly. \"That machine can't\n",
    "bring you anything but trouble!\"\n",
    "\n",
    "The scientist's burly assistant glanced wearily up from where he\n",
    "coupled heavy batteries in series at the rear of the glittering machine\n",
    "that entirely filled one corner of the windowless room.\n",
    "\"\"\" \n",
    "\n",
    "\n"
   ]
  }
 ],
 "metadata": {
  "kernelspec": {
   "display_name": "Python 3",
   "language": "python",
   "name": "python3"
  },
  "language_info": {
   "codemirror_mode": {
    "name": "ipython",
    "version": 3
   },
   "file_extension": ".py",
   "mimetype": "text/x-python",
   "name": "python",
   "nbconvert_exporter": "python",
   "pygments_lexer": "ipython3",
   "version": "3.7.6"
  }
 },
 "nbformat": 4,
 "nbformat_minor": 4
}
