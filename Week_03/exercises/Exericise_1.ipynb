{
 "cells": [
  {
   "cell_type": "code",
   "execution_count": 19,
   "metadata": {},
   "outputs": [
    {
     "name": "stdout",
     "output_type": "stream",
     "text": [
      "The lexical richness of this text is  1.2380952380952381\n"
     ]
    }
   ],
   "source": [
    "# Store string data in a variable called 'text'.\n",
    "# (This string is from 'Doorway to Distruction,'\n",
    "# a randomly chosen book from the Gutenberg Library of ebooks).\n",
    "\n",
    "text = \"\"\"\n",
    "Old Kelvin Martin strained futilely against the rope that held\n",
    "immovable his thin wrists. A crimsoned bruise raced across his forehead\n",
    "where Vance had slugged him with a heavy hand.\n",
    "\n",
    "\"Don't be a complete fool, Vance!\" he said harshly. \"That machine can't\n",
    "bring you anything but trouble!\"\n",
    "\n",
    "The scientist's burly assistant glanced wearily up from where he\n",
    "coupled heavy batteries in series at the rear of the glittering machine\n",
    "that entirely filled one corner of the windowless room.\n",
    "\"\"\" \n",
    "\n",
    "def printlexicalrichness(text):\n",
    "    text_lower = text.lower()\n",
    "    text_clean = text_lower.replace('\"',' ').replace('.',' ').replace('!',' ').replace(',',' ')\n",
    "    text_words = text_clean.split()\n",
    "    num_words = len(text_words)\n",
    "    unique_words = []\n",
    "    for word in text_words:\n",
    "        if word not in unique_words:\n",
    "            unique_words.append(word)\n",
    "            \n",
    "    num_uniquewords = len(unique_words)\n",
    "    lexical_richness = num_words/num_uniquewords\n",
    "    print('The lexical richness of this text is ', lexical_richness)\n",
    "\n",
    "printlexicalrichness(text)"
   ]
  },
  {
   "cell_type": "code",
   "execution_count": 20,
   "metadata": {},
   "outputs": [
    {
     "name": "stdout",
     "output_type": "stream",
     "text": [
      "The lexical richness of this text is  1.5705521472392638\n"
     ]
    }
   ],
   "source": [
    "book = \"\"\"\n",
    "Special Investigator Billy Neville was annoyed, and for more reasons\n",
    "than one. He had just done a tedious year in the jungles of Venus\n",
    "stamping out the gooroo racket and then, on his way home to a\n",
    "well-deserved leave and rest, had been diverted to Mars for a swift\n",
    "clean-up of the diamond-mine robbery ring. And now, when he again\n",
    "thought he would be free for a while, he found himself shunted to\n",
    "little Pallas, capital of the Asteroid Confederation. But clever,\n",
    "patient Colonel Frawley, commandant of all the Interplanetary Police in\n",
    "the belt, merely smiled indulgently while Neville blew off his steam.\n",
    "\n",
    "\"You say,\" said Neville, still ruffled, \"that there has been a growing\n",
    "wave of blackmail and extortion all over the System, coupled with a\n",
    "dozen or so instances of well-to-do, respectable persons disappearing\n",
    "without a trace. And you say that that has been going on for a couple\n",
    "of years and several hundred of our crack operatives have been working\n",
    "on it, directed by the best brains of the force, and yet haven't got\n",
    "anywhere. And that up to now there have been no such cases develop in\n",
    "the asteroids. Well, what do you want _me_ for? What's the emergency?\"\n",
    "\n",
    "The colonel laughed and dropped the ash from his cigar, preparatory to\n",
    "lying back in his chair and taking another long, soothing drag. The\n",
    "office of the Chief Inspector of the A.C. division of the I.P. was not\n",
    "only well equipped for the work it had to do, but for comfort.\"\"\"\n",
    "\n",
    "printlexicalrichness(book)"
   ]
  }
 ],
 "metadata": {
  "kernelspec": {
   "display_name": "Python 3",
   "language": "python",
   "name": "python3"
  },
  "language_info": {
   "codemirror_mode": {
    "name": "ipython",
    "version": 3
   },
   "file_extension": ".py",
   "mimetype": "text/x-python",
   "name": "python",
   "nbconvert_exporter": "python",
   "pygments_lexer": "ipython3",
   "version": "3.7.6"
  }
 },
 "nbformat": 4,
 "nbformat_minor": 4
}
